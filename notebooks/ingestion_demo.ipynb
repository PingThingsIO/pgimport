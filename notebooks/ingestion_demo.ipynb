{
 "cells": [
  {
   "cell_type": "markdown",
   "id": "9081ce6c",
   "metadata": {},
   "source": [
    "## Python Ingestion\n",
    "The purpose of this notebook is to demonstrate how to create a custom `DataParser` that can parse CSV files into BTrDB streams. "
   ]
  },
  {
   "cell_type": "markdown",
   "id": "3e885eb0",
   "metadata": {},
   "source": [
    "### Overview\n",
    "Pgimport works by splitting the overall task of data ingestion into two processes. The first process is handled by `DataParsers`, which are responsible for locating files containing data to ingest and turning that data into `StreamData` objects. `StreamData` contains arrays of timestamps and values, as well as metadata (collection name, tags, annotations). `StreamData` objects are passed to `DataIngestors`, which are responsible for mapping `StreamData` objects to BTrDB streams (or creating a new stream if it doesn't exist yet) and inserting points.\n",
    "\n",
    "This example uses `MyCSVParser`, which is an implementation of the `DataParser` interface. Most ingestions will require a custom implementation of the `DataParser` interface, because it will contain bespoke code to find and parse files that will almost definitely have unique formats/oddities. Writing a valid `DataParser` will be the responsibility of the user, whereas the `DataIngestor` should be suitable for all most cases."
   ]
  },
  {
   "cell_type": "code",
   "execution_count": 1,
   "id": "4b863e5c",
   "metadata": {},
   "outputs": [],
   "source": [
    "import os\n",
    "import btrdb\n",
    "\n",
    "from pgimport.csv_parser import MyCSVParser\n",
    "from pgimport.ingest import DataIngestor"
   ]
  },
  {
   "cell_type": "code",
   "execution_count": 2,
   "id": "84f71727",
   "metadata": {},
   "outputs": [
    {
     "name": "stdout",
     "output_type": "stream",
     "text": [
      "found 4 files\n"
     ]
    }
   ],
   "source": [
    "# instantiate CSVParser with path for stream data and collection prefix\n",
    "# NOTE: update with path to local data files\n",
    "cp = MyCSVParser(\"../data/csv/\", collection_prefix=\"test_ingest\")\n",
    "\n",
    "# locate files\n",
    "files = cp.collect_files()\n",
    "print(f\"found {len(files)} files\")"
   ]
  },
  {
   "cell_type": "code",
   "execution_count": 3,
   "id": "58476cba",
   "metadata": {},
   "outputs": [
    {
     "name": "stderr",
     "output_type": "stream",
     "text": [
      "/Users/michael.chestnut/projects/pgimport/pgimport/ingest.py:39: UserWarning: total points not provided. Progress bar will not be displayed\n",
      "  warnings.warn(\"total points not provided. Progress bar will not be displayed\")\n"
     ]
    }
   ],
   "source": [
    "# Connect to BTrDB, instantiate ingestor and insert data\n",
    "conn = btrdb.connect(profile=os.environ[\"BTRDB_PROFILE\"])\n",
    "\n",
    "ingestor = DataIngestor(conn)\n",
    "for streams in cp.instantiate_streams(files):\n",
    "    ingestor.ingest(streams)"
   ]
  },
  {
   "cell_type": "code",
   "execution_count": null,
   "id": "0b28cb76",
   "metadata": {},
   "outputs": [],
   "source": []
  }
 ],
 "metadata": {
  "kernelspec": {
   "display_name": "Python 3",
   "language": "python",
   "name": "python3"
  },
  "language_info": {
   "codemirror_mode": {
    "name": "ipython",
    "version": 3
   },
   "file_extension": ".py",
   "mimetype": "text/x-python",
   "name": "python",
   "nbconvert_exporter": "python",
   "pygments_lexer": "ipython3",
   "version": "3.7.6"
  }
 },
 "nbformat": 4,
 "nbformat_minor": 5
}
